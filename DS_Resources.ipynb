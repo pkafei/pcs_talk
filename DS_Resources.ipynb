{
 "metadata": {
  "name": "",
  "signature": "sha256:8b67f2aa71af1e9b51bd2cdaaecabda73d32e53d9ee34f7836c407a441f72354"
 },
 "nbformat": 3,
 "nbformat_minor": 0,
 "worksheets": [
  {
   "cells": [
    {
     "cell_type": "markdown",
     "metadata": {},
     "source": [
      "# Data Science Resources"
     ]
    },
    {
     "cell_type": "markdown",
     "metadata": {},
     "source": [
      "## Data Science Tutorials\n",
      "* https://github.com/chrisalbon/code_py\n",
      "* https://github.com/jonathan-bower/DataScienceResources\n",
      "* https://github.com/DataTau/datascience-anthology-pydata"
     ]
    },
    {
     "cell_type": "markdown",
     "metadata": {},
     "source": [
      "## Civic Data\n",
      "* http://data.gov\n",
      "* http://www.hackoregon.org/\n",
      "* http://sunlightfoundation.com/"
     ]
    },
    {
     "cell_type": "markdown",
     "metadata": {},
     "source": [
      "## Machine Learning\n",
      "\n",
      "* http://archive.ics.uci.edu/ml/ (machine learning dataset)\n",
      "* http://www.kaggle.com (machine learning datasets and competitions)\n",
      "* data.gov (civic data)"
     ]
    },
    {
     "cell_type": "markdown",
     "metadata": {},
     "source": [
      "## I want to get started RIGHT NOW\n",
      "\n",
      "* http://www.meetup.com/Portland-Data-Science-Group/\n",
      "* http://www.meetup.com/PDX-Creative-Coders/"
     ]
    }
   ],
   "metadata": {}
  }
 ]
}