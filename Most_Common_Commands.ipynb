{
 "metadata": {
  "name": "",
  "signature": "sha256:cc67709039a5eb93958df5986273e040ba6cf14946b28b34beace92b0ec8d908"
 },
 "nbformat": 3,
 "nbformat_minor": 0,
 "worksheets": [
  {
   "cells": [
    {
     "cell_type": "markdown",
     "metadata": {},
     "source": [
      "# Most Common Pandas Commands: Quick Tour of Pandas"
     ]
    },
    {
     "cell_type": "code",
     "collapsed": false,
     "input": [
      "## A Tour of Pandas: (3 min)\n",
      "\n",
      "### Import Pandas and other relevant packages. \n",
      "\n",
      "import pandas as pd # the pandas package\n",
      "import numpy as np\n",
      "import matplotlib.pyplot as plt #for graphics\n"
     ],
     "language": "python",
     "metadata": {},
     "outputs": [],
     "prompt_number": 1
    },
    {
     "cell_type": "markdown",
     "metadata": {},
     "source": [
      "## The 5 most common Pandas commands to get you Started\n",
      "\n",
      "* read_csv\n",
      "* head\n",
      "* tail\n",
      "* describe\n",
      "* plot"
     ]
    },
    {
     "cell_type": "markdown",
     "metadata": {},
     "source": [
      "## Read CSV: Introduction to Pandas IO read_csv"
     ]
    },
    {
     "cell_type": "code",
     "collapsed": false,
     "input": [
      "#Uploading the dataset.\n",
      "avg_weather = pd.read_csv('avg_weather.csv', index_col='Month')"
     ],
     "language": "python",
     "metadata": {},
     "outputs": [],
     "prompt_number": 2
    },
    {
     "cell_type": "markdown",
     "metadata": {},
     "source": [
      "## Head and Tail: Getting a Glimpse of Your Data\n",
      "\n",
      "When you are dealing with especially large datasets, sometimes it is hard to gain perspective of your dataset. Datasets can range from two rows to two million, and it is usually not especially illuminating to look at all two million rows at once. \n",
      "\n",
      "One way to deal with this problem is to use head, and tail. Head and tail is actually what it is in bash. Head allows you to see the first few rows, and tail displays the last rows.\n",
      "\n"
     ]
    },
    {
     "cell_type": "code",
     "collapsed": false,
     "input": [
      "# First 5 rows\n",
      "avg_weather.head()"
     ],
     "language": "python",
     "metadata": {},
     "outputs": [
      {
       "html": [
        "<div style=\"max-height:1000px;max-width:1500px;overflow:auto;\">\n",
        "<table border=\"1\" class=\"dataframe\">\n",
        "  <thead>\n",
        "    <tr style=\"text-align: right;\">\n",
        "      <th></th>\n",
        "      <th>Portland</th>\n",
        "      <th>San Francisco</th>\n",
        "    </tr>\n",
        "    <tr>\n",
        "      <th>Month</th>\n",
        "      <th></th>\n",
        "      <th></th>\n",
        "    </tr>\n",
        "  </thead>\n",
        "  <tbody>\n",
        "    <tr>\n",
        "      <th>January</th>\n",
        "      <td> 47</td>\n",
        "      <td> 57</td>\n",
        "    </tr>\n",
        "    <tr>\n",
        "      <th>February</th>\n",
        "      <td> 51</td>\n",
        "      <td> 60</td>\n",
        "    </tr>\n",
        "    <tr>\n",
        "      <th>March</th>\n",
        "      <td> 57</td>\n",
        "      <td> 62</td>\n",
        "    </tr>\n",
        "    <tr>\n",
        "      <th>April</th>\n",
        "      <td> 61</td>\n",
        "      <td> 63</td>\n",
        "    </tr>\n",
        "    <tr>\n",
        "      <th>May</th>\n",
        "      <td> 68</td>\n",
        "      <td> 64</td>\n",
        "    </tr>\n",
        "  </tbody>\n",
        "</table>\n",
        "</div>"
       ],
       "metadata": {},
       "output_type": "pyout",
       "prompt_number": 3,
       "text": [
        "          Portland  San Francisco\n",
        "Month                            \n",
        "January         47             57\n",
        "February        51             60\n",
        "March           57             62\n",
        "April           61             63\n",
        "May             68             64"
       ]
      }
     ],
     "prompt_number": 3
    },
    {
     "cell_type": "code",
     "collapsed": false,
     "input": [
      "# Last 5 rows\n",
      "avg_weather.tail()"
     ],
     "language": "python",
     "metadata": {},
     "outputs": [
      {
       "html": [
        "<div style=\"max-height:1000px;max-width:1500px;overflow:auto;\">\n",
        "<table border=\"1\" class=\"dataframe\">\n",
        "  <thead>\n",
        "    <tr style=\"text-align: right;\">\n",
        "      <th></th>\n",
        "      <th>Portland</th>\n",
        "      <th>San Francisco</th>\n",
        "    </tr>\n",
        "    <tr>\n",
        "      <th>Month</th>\n",
        "      <th></th>\n",
        "      <th></th>\n",
        "    </tr>\n",
        "  </thead>\n",
        "  <tbody>\n",
        "    <tr>\n",
        "      <th>August</th>\n",
        "      <td> 81</td>\n",
        "      <td> 68</td>\n",
        "    </tr>\n",
        "    <tr>\n",
        "      <th>September</th>\n",
        "      <td> 75</td>\n",
        "      <td> 70</td>\n",
        "    </tr>\n",
        "    <tr>\n",
        "      <th>October</th>\n",
        "      <td> 63</td>\n",
        "      <td> 69</td>\n",
        "    </tr>\n",
        "    <tr>\n",
        "      <th>November</th>\n",
        "      <td> 52</td>\n",
        "      <td> 63</td>\n",
        "    </tr>\n",
        "    <tr>\n",
        "      <th>December</th>\n",
        "      <td> 45</td>\n",
        "      <td> 57</td>\n",
        "    </tr>\n",
        "  </tbody>\n",
        "</table>\n",
        "</div>"
       ],
       "metadata": {},
       "output_type": "pyout",
       "prompt_number": 4,
       "text": [
        "           Portland  San Francisco\n",
        "Month                             \n",
        "August           81             68\n",
        "September        75             70\n",
        "October          63             69\n",
        "November         52             63\n",
        "December         45             57"
       ]
      }
     ],
     "prompt_number": 4
    },
    {
     "cell_type": "markdown",
     "metadata": {},
     "source": [
      "## You can also put an argument into the head and tail function if you wish to see a specific number of rows. Displaying the first 10 values in your dataset"
     ]
    },
    {
     "cell_type": "code",
     "collapsed": false,
     "input": [
      "avg_weather.head(10)"
     ],
     "language": "python",
     "metadata": {},
     "outputs": []
    },
    {
     "cell_type": "markdown",
     "metadata": {},
     "source": [
      "## Describe: EDA\n",
      "\n",
      "An EDA is an exploratory data analysis. This means that you are performing summarizing the main characteristics of your dataset. An exploratory data analysis often helps you answer the basic questions of the dataset. For example is you are dealing with integers an EDA helps you answer questions such as what is the maximum value, what is the minimum, and what is the average. An exploratoy analysis sets the stage for asking more questions of your dataset."
     ]
    },
    {
     "cell_type": "code",
     "collapsed": false,
     "input": [
      "avg_weather.describe()"
     ],
     "language": "python",
     "metadata": {},
     "outputs": []
    },
    {
     "cell_type": "markdown",
     "metadata": {},
     "source": [
      "## Plot: Visualizations\n",
      "\n",
      "At this point in time matplotlib is the most widely used visualization package used in Python. Matplotlib integrates itself with Pandas using minimum code. We are going to use a simple example to demonstrate how to create a line graph comparing the average temperature of San Francisco and Portland. Matplotlib is flexible and there ways to customize color, axes, and Later on in the course we will use other visualization packages such as Bokeh, and Seaborn."
     ]
    },
    {
     "cell_type": "code",
     "collapsed": false,
     "input": [
      "## Use Visualization to compare temperature of Portland and San Francisco\n",
      "avg_weather.plot()\n",
      "axis = plt.gca()\n",
      "axis.set_title('Average Temperature in Portland and San Fransico')\n",
      "axis.set_xlabel('Month')\n",
      "axis.set_ylabel('Termperature')\n",
      "plt.show()"
     ],
     "language": "python",
     "metadata": {},
     "outputs": [],
     "prompt_number": 5
    }
   ],
   "metadata": {}
  }
 ]
}