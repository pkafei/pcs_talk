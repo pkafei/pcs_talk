{
 "metadata": {
  "name": "",
  "signature": "sha256:dcb7e0f1a8ec7b7da7713c561e5c775edd502110f95d170f19a18c252d0b86fc"
 },
 "nbformat": 3,
 "nbformat_minor": 0,
 "worksheets": [
  {
   "cells": [
    {
     "cell_type": "markdown",
     "metadata": {},
     "source": [
      "# IPython and Google Maps"
     ]
    },
    {
     "cell_type": "code",
     "collapsed": false,
     "input": [],
     "language": "python",
     "metadata": {},
     "outputs": [],
     "prompt_number": 0
    },
    {
     "cell_type": "markdown",
     "metadata": {},
     "source": [
      "## Visualize a Search in Google Maps"
     ]
    },
    {
     "cell_type": "code",
     "collapsed": false,
     "input": [],
     "language": "python",
     "metadata": {},
     "outputs": [],
     "prompt_number": 0
    },
    {
     "cell_type": "code",
     "collapsed": false,
     "input": [
      "from IPython.display import IFrame, HTML, Javascript\n",
      "from IPython.core.display import display\n",
      "\n",
      "# Google Maps URL template for an iframe\n",
      "\n",
      "'''google_maps_url = \"http://maps.google.com/maps?q={0}+{1}&\" + \\\n",
      "  \"ie=UTF8&t=h&z=14&{0},{1}&output=embed\"'''\n",
      "\n",
      "waffle_window = \"https://maps.google.com/maps?q=The+Waffle+Window,+Northeast+Alberta+Street,+Portland,+OR&hl=en&sll=45.522158,-122.677147&sspn=0.011035,0.022724&oq=waffle+window&t=m&hq=The+Waffle+Window,&hnear=NE+Alberta+St,+Portland,+Oregon+97211&z=15&lci=bike&output=embed\"\n",
      "display(IFrame(waffle_window, '425px', '350px'))"
     ],
     "language": "python",
     "metadata": {},
     "outputs": [
      {
       "html": [
        "\n",
        "        <iframe\n",
        "            width=\"425px\"\n",
        "            height=350px\"\n",
        "            src=\"https://maps.google.com/maps?q=The+Waffle+Window,+Northeast+Alberta+Street,+Portland,+OR&hl=en&sll=45.522158,-122.677147&sspn=0.011035,0.022724&oq=waffle+window&t=m&hq=The+Waffle+Window,&hnear=NE+Alberta+St,+Portland,+Oregon+97211&z=15&lci=bike&output=embed\"\n",
        "            frameborder=\"0\"\n",
        "            allowfullscreen\n",
        "        ></iframe>\n",
        "        "
       ],
       "metadata": {},
       "output_type": "display_data",
       "text": [
        "<IPython.lib.display.IFrame at 0x1022d1a10>"
       ]
      }
     ],
     "prompt_number": 1
    },
    {
     "cell_type": "code",
     "collapsed": false,
     "input": [],
     "language": "python",
     "metadata": {},
     "outputs": [],
     "prompt_number": 1
    },
    {
     "cell_type": "markdown",
     "metadata": {},
     "source": [
      "## You can also Use Javascript in IPython Notebook"
     ]
    },
    {
     "cell_type": "code",
     "collapsed": false,
     "input": [],
     "language": "python",
     "metadata": {},
     "outputs": [],
     "prompt_number": 1
    },
    {
     "cell_type": "markdown",
     "metadata": {},
     "source": [
      "More Information:\n",
      "    https://developers.google.com/maps/documentation/embed/guide\n",
      "    "
     ]
    }
   ],
   "metadata": {}
  }
 ]
}